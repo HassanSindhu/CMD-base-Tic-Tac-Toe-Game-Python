{
 "cells": [
  {
   "cell_type": "code",
   "execution_count": 9,
   "metadata": {},
   "outputs": [],
   "source": [
    "class Stru:\n",
    "    def __init__(self):\n",
    "        self.cells = [\" \",\" \",\" \",\" \",\" \",\" \",\" \",\" \",\" \",\" \"]\n",
    "        \n",
    "    def display(self):\n",
    "        print(\"  %s  |  %s  |  %s  \" %(self.cells[1], self.cells[2], self.cells[3]))\n",
    "        print(\" ---------------\")\n",
    "        print(\"  %s  |  %s  |  %s  \" %(self.cells[4], self.cells[5], self.cells[6]))\n",
    "        print(\" ---------------\")\n",
    "        print(\"  %s  |  %s  |  %s  \" %(self.cells[7], self.cells[8], self.cells[9]))\n",
    "        \n",
    "    def update_Cell(self, cell_no, player):\n",
    "        if self.cells[cell_no]==\" \":\n",
    "            self.cells[cell_no] = player\n",
    "    def winner(self, player):\n",
    "        if self.cells[1]==player and self.cells[2]==player and self.cells[3]==player:\n",
    "            return True\n",
    "        if self.cells[4]==player and self.cells[5]==player and self.cells[6]==player:\n",
    "            return True\n",
    "        if self.cells[7]==player and self.cells[8]==player and self.cells[9]==player:\n",
    "            return True\n",
    "        if self.cells[1]==player and self.cells[5]==player and self.cells[9]==player:\n",
    "            return True\n",
    "        if self.cells[1]==player and self.cells[4]==player and self.cells[7]==player:\n",
    "            return True\n",
    "        if self.cells[2]==player and self.cells[5]==player and self.cells[8]==player:\n",
    "            return True\n",
    "        if self.cells[3]==player and self.cells[6]==player and self.cells[9]==player:\n",
    "            return True\n",
    "        if self.cells[3]==player and self.cells[5]==player and self.cells[7]==player:\n",
    "            return True"
   ]
  },
  {
   "cell_type": "code",
   "execution_count": 10,
   "metadata": {},
   "outputs": [],
   "source": [
    "stur = Stru()  "
   ]
  },
  {
   "cell_type": "code",
   "execution_count": 11,
   "metadata": {},
   "outputs": [],
   "source": [
    "import random"
   ]
  },
  {
   "cell_type": "code",
   "execution_count": 12,
   "metadata": {},
   "outputs": [
    {
     "name": "stdin",
     "output_type": "stream",
     "text": [
      "X ) : Select number between 1 to 9  2\n"
     ]
    },
    {
     "name": "stdout",
     "output_type": "stream",
     "text": [
      "     |  X  |     \n",
      " ---------------\n",
      "     |     |     \n",
      " ---------------\n",
      "     |     |     \n"
     ]
    }
   ],
   "source": [
    "while True:\n",
    "    P1 = int(input(\"X ) : Select number between 1 to 9 \"))\n",
    "    stur.update_Cell(P1, 'X')\n",
    "    stur.display()\n",
    "    break"
   ]
  },
  {
   "cell_type": "code",
   "execution_count": 13,
   "metadata": {},
   "outputs": [
    {
     "name": "stdout",
     "output_type": "stream",
     "text": [
      "     |  X  |     \n",
      " ---------------\n",
      "     |  O  |     \n",
      " ---------------\n",
      "     |     |     \n"
     ]
    }
   ],
   "source": [
    "while True:  \n",
    "    P2 = random.randint(1, 9)\n",
    "    stur.update_Cell(P2, 'O')\n",
    "    stur.display()\n",
    "    break\n",
    "    "
   ]
  },
  {
   "cell_type": "code",
   "execution_count": 14,
   "metadata": {},
   "outputs": [
    {
     "name": "stdin",
     "output_type": "stream",
     "text": [
      "X ) : Select number between 1 to 9  1\n"
     ]
    },
    {
     "name": "stdout",
     "output_type": "stream",
     "text": [
      "  X  |  X  |     \n",
      " ---------------\n",
      "     |  O  |     \n",
      " ---------------\n",
      "     |     |     \n"
     ]
    }
   ],
   "source": [
    "while True:\n",
    "    P1 = int(input(\"X ) : Select number between 1 to 9 \"))\n",
    "    stur.update_Cell(P1, 'X')\n",
    "    stur.display()\n",
    "    break"
   ]
  },
  {
   "cell_type": "code",
   "execution_count": 15,
   "metadata": {},
   "outputs": [
    {
     "name": "stdout",
     "output_type": "stream",
     "text": [
      "  X  |  X  |     \n",
      " ---------------\n",
      "     |  O  |     \n",
      " ---------------\n",
      "     |     |  O  \n"
     ]
    }
   ],
   "source": [
    "while True:  \n",
    "    P2 = random.randint(1, 9)\n",
    "    stur.update_Cell(P2, 'O')\n",
    "    stur.display()\n",
    "    break\n",
    "    "
   ]
  },
  {
   "cell_type": "code",
   "execution_count": 16,
   "metadata": {},
   "outputs": [
    {
     "name": "stdin",
     "output_type": "stream",
     "text": [
      "X ) : Select number between 1 to 9  3\n"
     ]
    },
    {
     "name": "stdout",
     "output_type": "stream",
     "text": [
      "  X  |  X  |  X  \n",
      " ---------------\n",
      "     |  O  |     \n",
      " ---------------\n",
      "     |     |  O  \n",
      "X WINS\n"
     ]
    }
   ],
   "source": [
    "while True:\n",
    "    P1 = int(input(\"X ) : Select number between 1 to 9 \"))\n",
    "    stur.update_Cell(P1, 'X')\n",
    "    stur.display()\n",
    "    if stur.winner(\"X\"):\n",
    "        print(\"X WINS\")\n",
    "    break"
   ]
  },
  {
   "cell_type": "code",
   "execution_count": null,
   "metadata": {},
   "outputs": [],
   "source": [
    "while True:\n",
    "    P1 = int(input(\"X ) : Select number between 1 to 9 \"))\n",
    "    stur.update_Cell(P1, 'X')\n",
    "    stur.display()\n",
    "    if stur.winner(\"X\"):\n",
    "        print(\"X WINS\")\n",
    "    break"
   ]
  },
  {
   "cell_type": "code",
   "execution_count": null,
   "metadata": {},
   "outputs": [],
   "source": [
    "while True:\n",
    "    P2 = random.randint(1, 9)\n",
    "    stur.update_Cell(P2, 'O')\n",
    "    stur.display()\n",
    "    if stur.winner(\"O\"):\n",
    "        print(\"O WINS\")\n",
    "    break"
   ]
  },
  {
   "cell_type": "code",
   "execution_count": null,
   "metadata": {},
   "outputs": [],
   "source": [
    "while True:\n",
    "    P1 = int(input(\"X ) : Select number between 1 to 9 \"))\n",
    "    stur.update_Cell(P1, 'X')\n",
    "    stur.display()\n",
    "    if stur.winner(\"X\"):\n",
    "        print(\"X WINS\")\n",
    "    break"
   ]
  },
  {
   "cell_type": "code",
   "execution_count": null,
   "metadata": {},
   "outputs": [],
   "source": []
  }
 ],
 "metadata": {
  "kernelspec": {
   "display_name": "Python 3",
   "language": "python",
   "name": "python3"
  },
  "language_info": {
   "codemirror_mode": {
    "name": "ipython",
    "version": 3
   },
   "file_extension": ".py",
   "mimetype": "text/x-python",
   "name": "python",
   "nbconvert_exporter": "python",
   "pygments_lexer": "ipython3",
   "version": "3.8.3"
  }
 },
 "nbformat": 4,
 "nbformat_minor": 4
}
